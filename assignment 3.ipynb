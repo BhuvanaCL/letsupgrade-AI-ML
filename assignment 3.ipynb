{
 "cells": [
  {
   "cell_type": "markdown",
   "metadata": {},
   "source": [
    "Question 1"
   ]
  },
  {
   "cell_type": "code",
   "execution_count": 2,
   "metadata": {},
   "outputs": [
    {
     "name": "stdout",
     "output_type": "stream",
     "text": [
      "Enter the number of non-even prime numbers required:20\n",
      "The first 20 non-even prime numbers are:\n",
      "3 5 7 11 13 17 19 23 29 31 37 41 43 47 53 59 61 67 71 73 "
     ]
    }
   ],
   "source": [
    "c=0\n",
    "n = int(input(\"Enter the number of non-even prime numbers required:\"))\n",
    "print(\"The first\",n,\"non-even prime numbers are:\")\n",
    "for num in range(3,100):\n",
    "        if (num>1):\n",
    "            for i in range(2,num):\n",
    "                if (num%i == 0):\n",
    "                    break\n",
    "            else:\n",
    "                    print(num,end=\" \")\n",
    "                    c+=1\n",
    "                    if(c>=n):\n",
    "                        break\n",
    "                    "
   ]
  },
  {
   "cell_type": "markdown",
   "metadata": {},
   "source": [
    "Question 2"
   ]
  },
  {
   "cell_type": "code",
   "execution_count": 3,
   "metadata": {},
   "outputs": [
    {
     "name": "stdout",
     "output_type": "stream",
     "text": [
      "Hi @ letsupgrade\n",
      "hi @ letsupgrade\n",
      "                 hi @ Letsupgrade                 \n",
      "1\n",
      "-1\n",
      "13\n",
      "False\n",
      "False\n",
      "True\n",
      "False\n",
      "False\n",
      "hi @ letsupgrade\n",
      "['hi ', ' Letsupgrade']\n",
      "True\n",
      "HI @ LETSUPGRADE\n"
     ]
    }
   ],
   "source": [
    "r=\"hi @ Letsupgrade\"\n",
    "t = \"!\"\n",
    "print(r.capitalize())\n",
    "print(r.casefold())\n",
    "print(r.center(50))\n",
    "print(r.count('a'))\n",
    "print(r.find('to'))\n",
    "print(r.index('a'))\n",
    "print(r.isalnum())\n",
    "print(r.isalpha())\n",
    "print(r.isascii())\n",
    "print(r.isdecimal())\n",
    "print(r.isdigit())\n",
    "print(r.lower())\n",
    "print(r.split('@'))\n",
    "print(r.startswith('h'))\n",
    "print(r.upper())"
   ]
  },
  {
   "cell_type": "markdown",
   "metadata": {},
   "source": [
    "Question 3"
   ]
  },
  {
   "cell_type": "code",
   "execution_count": 6,
   "metadata": {},
   "outputs": [
    {
     "name": "stdout",
     "output_type": "stream",
     "text": [
      "Enter the first string:i am a good student\n",
      "Enter the second string:but some students are bad\n",
      "The strings are not either Palindrome or Anagrams.\n"
     ]
    }
   ],
   "source": [
    "s1 = input(\"Enter the first string:\")\n",
    "s2 = input(\"Enter the second string:\")\n",
    "s3 = s1[::-1]\n",
    "if(s1 == s3):\n",
    "    print(\"The string 1 is a Palindrome\")\n",
    "elif(sorted(s1) == sorted(s2)):\n",
    "    print(\"The strings are Anagrams.\")\n",
    "else:\n",
    "    print(\"The strings are not either Palindrome or Anagrams.\")"
   ]
  },
  {
   "cell_type": "markdown",
   "metadata": {},
   "source": [
    "Question 4"
   ]
  },
  {
   "cell_type": "code",
   "execution_count": 8,
   "metadata": {},
   "outputs": [
    {
     "name": "stdout",
     "output_type": "stream",
     "text": [
      "Enter the string:Bhuvana.C.L @ Student@ \"letsupgrade\"\n",
      "bhuvanaclstudentletsupgrade\n"
     ]
    }
   ],
   "source": [
    "def is_alpha():\n",
    "    S = input(\"Enter the string:\")\n",
    "    n_s = \"\"\n",
    "    for i in S:\n",
    "        if(i.isalnum()):\n",
    "            n_s = n_s+i\n",
    "    return n_s\n",
    "new_string = is_alpha()\n",
    "print(new_string.lower())"
   ]
  }
 ],
 "metadata": {
  "kernelspec": {
   "display_name": "Python 3",
   "language": "python",
   "name": "python3"
  },
  "language_info": {
   "codemirror_mode": {
    "name": "ipython",
    "version": 3
   },
   "file_extension": ".py",
   "mimetype": "text/x-python",
   "name": "python",
   "nbconvert_exporter": "python",
   "pygments_lexer": "ipython3",
   "version": "3.7.6"
  }
 },
 "nbformat": 4,
 "nbformat_minor": 4
}
