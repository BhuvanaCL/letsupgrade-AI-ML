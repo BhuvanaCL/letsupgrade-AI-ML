{
 "cells": [
  {
   "cell_type": "markdown",
   "metadata": {},
   "source": [
    "# Hypothesis examples"
   ]
  },
  {
   "cell_type": "markdown",
   "metadata": {},
   "source": [
    "1. Drinking sugary drinks daily leads to obesity.\n",
    "2. There is no significant change in my health during the times when I drink green tea only or root beer only.\n",
    "3. My health improves during the times when I drink green tea only, as opposed to root beer only.\n",
    "4. Cacti experience more successful growth rates than tulips on Mars. \n",
    "5. Roses watered with liquid Vitamin B grow faster than roses watered with liquid Vitamin E.\n",
    "6. The number of lectures attended by first-year students has no effect on their final exam scores.\n",
    "7. Increasing apple consumption in over-60s will result in decreasing frequency of doctor’s visits.\n",
    "8. Low-cost and premium airlines are equally likely to have delays.\n",
    "9. If you drink coffee before going to bed, then it will take longer to fall asleep.\n",
    "10. If you get at least 6 hours of sleep, you will do better on tests than if you get less sleep."
   ]
  }
 ],
 "metadata": {
  "kernelspec": {
   "display_name": "Python 3",
   "language": "python",
   "name": "python3"
  },
  "language_info": {
   "codemirror_mode": {
    "name": "ipython",
    "version": 3
   },
   "file_extension": ".py",
   "mimetype": "text/x-python",
   "name": "python",
   "nbconvert_exporter": "python",
   "pygments_lexer": "ipython3",
   "version": "3.7.6"
  }
 },
 "nbformat": 4,
 "nbformat_minor": 4
}
